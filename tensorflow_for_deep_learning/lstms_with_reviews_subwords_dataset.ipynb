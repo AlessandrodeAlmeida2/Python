{
  "cells": [
    {
      "cell_type": "markdown",
      "metadata": {
        "id": "punL79CN7Ox6"
      },
      "source": [
        "##### Copyright 2020 The TensorFlow Authors."
      ]
    },
    {
      "cell_type": "code",
      "execution_count": null,
      "metadata": {
        "cellView": "form",
        "id": "_ckMIh7O7s6D"
      },
      "outputs": [],
      "source": [
        "#@title Licensed under the Apache License, Version 2.0 (the \"License\");\n",
        "# you may not use this file except in compliance with the License.\n",
        "# You may obtain a copy of the License at\n",
        "#\n",
        "# https://www.apache.org/licenses/LICENSE-2.0\n",
        "#\n",
        "# Unless required by applicable law or agreed to in writing, software\n",
        "# distributed under the License is distributed on an \"AS IS\" BASIS,\n",
        "# WITHOUT WARRANTIES OR CONDITIONS OF ANY KIND, either express or implied.\n",
        "# See the License for the specific language governing permissions and\n",
        "# limitations under the License."
      ]
    },
    {
      "cell_type": "markdown",
      "metadata": {
        "id": "hAclqSm3OOml"
      },
      "source": [
        "# Using LSTMs with the subwords dataset\n"
      ]
    },
    {
      "cell_type": "markdown",
      "metadata": {
        "id": "S5Uhzt6vVIB2"
      },
      "source": [
        "<table class=\"tfo-notebook-buttons\" align=\"left\">\n",
        "  <td>\n",
        "    <a target=\"_blank\" href=\"https://colab.research.google.com/github/tensorflow/examples/blob/master/courses/udacity_intro_to_tensorflow_for_deep_learning/l10c01_nlp_lstms_with_reviews_subwords_dataset.ipynb\"><img src=\"https://www.tensorflow.org/images/colab_logo_32px.png\" />Run in Google Colab</a>\n",
        "  </td>\n",
        "  <td>\n",
        "    <a target=\"_blank\" href=\"https://github.com/tensorflow/examples/blob/master/courses/udacity_intro_to_tensorflow_for_deep_learning/l10c01_nlp_lstms_with_reviews_subwords_dataset.ipynb\"><img src=\"https://www.tensorflow.org/images/GitHub-Mark-32px.png\" />View source on GitHub</a>\n",
        "  </td>\n",
        "</table>"
      ]
    },
    {
      "cell_type": "markdown",
      "metadata": {
        "id": "KTVx8__oGR9J"
      },
      "source": [
        "In this colab, you'll compare the results of using a model with an Embedding layer and then adding bidirectional LSTM layers.\n",
        "\n",
        "You'll work with the dataset of subwords for the combined Yelp and Amazon reviews.\n",
        "\n",
        "You'll use your models to predict the sentiment of new reviews."
      ]
    },
    {
      "cell_type": "code",
      "execution_count": 1,
      "metadata": {
        "id": "L62G7LTwNzoD"
      },
      "outputs": [],
      "source": [
        "import tensorflow as tf\n",
        "\n",
        "from tensorflow.keras.preprocessing.sequence import pad_sequences"
      ]
    },
    {
      "cell_type": "markdown",
      "metadata": {
        "id": "hLcl0QHvDjTV"
      },
      "source": [
        "# Get the dataset\n",
        "\n",
        "Start by getting the dataset containing Amazon and Yelp reviews, with their related sentiment (1 for positive, 0 for negative). This dataset was originally extracted from [here](https://www.kaggle.com/marklvl/sentiment-labelled-sentences-data-set).\n"
      ]
    },
    {
      "cell_type": "code",
      "execution_count": 2,
      "metadata": {
        "id": "nCOtiRJZbxCH",
        "outputId": "6fb13373-aa8c-4a0b-8796-8997616a57fa",
        "colab": {
          "base_uri": "https://localhost:8080/"
        }
      },
      "outputs": [
        {
          "output_type": "stream",
          "name": "stdout",
          "text": [
            "--2023-06-04 12:24:56--  https://drive.google.com/uc?id=13ySLC_ue6Umt9RJYSeM2t-V0kCv-4C-P\n",
            "Resolving drive.google.com (drive.google.com)... 142.251.161.138, 142.251.161.100, 142.251.161.101, ...\n",
            "Connecting to drive.google.com (drive.google.com)|142.251.161.138|:443... connected.\n",
            "HTTP request sent, awaiting response... 303 See Other\n",
            "Location: https://doc-08-ak-docs.googleusercontent.com/docs/securesc/ha0ro937gcuc7l7deffksulhg5h7mbp1/22aofhucqov2r5p6f5ohkh51mjp43hld/1685881425000/11118900490791463723/*/13ySLC_ue6Umt9RJYSeM2t-V0kCv-4C-P?uuid=1428974e-942b-4405-846d-8044d3e27a7c [following]\n",
            "Warning: wildcards not supported in HTTP.\n",
            "--2023-06-04 12:24:56--  https://doc-08-ak-docs.googleusercontent.com/docs/securesc/ha0ro937gcuc7l7deffksulhg5h7mbp1/22aofhucqov2r5p6f5ohkh51mjp43hld/1685881425000/11118900490791463723/*/13ySLC_ue6Umt9RJYSeM2t-V0kCv-4C-P?uuid=1428974e-942b-4405-846d-8044d3e27a7c\n",
            "Resolving doc-08-ak-docs.googleusercontent.com (doc-08-ak-docs.googleusercontent.com)... 142.251.172.132, 2607:f8b0:4001:c61::84\n",
            "Connecting to doc-08-ak-docs.googleusercontent.com (doc-08-ak-docs.googleusercontent.com)|142.251.172.132|:443... connected.\n",
            "HTTP request sent, awaiting response... 200 OK\n",
            "Length: 127831 (125K) [text/csv]\n",
            "Saving to: ‘/tmp/sentiment.csv’\n",
            "\n",
            "/tmp/sentiment.csv  100%[===================>] 124.83K  --.-KB/s    in 0.001s  \n",
            "\n",
            "2023-06-04 12:24:56 (127 MB/s) - ‘/tmp/sentiment.csv’ saved [127831/127831]\n",
            "\n"
          ]
        }
      ],
      "source": [
        "!wget --no-check-certificate \\\n",
        "    https://drive.google.com/uc?id=13ySLC_ue6Umt9RJYSeM2t-V0kCv-4C-P -O /tmp/sentiment.csv"
      ]
    },
    {
      "cell_type": "code",
      "execution_count": 3,
      "metadata": {
        "id": "XuqER_KMD-xS"
      },
      "outputs": [],
      "source": [
        "import pandas as pd\n",
        "\n",
        "dataset = pd.read_csv('/tmp/sentiment.csv')\n",
        "\n",
        "# Extract out sentences and labels\n",
        "sentences = dataset['text'].tolist()\n",
        "labels = dataset['sentiment'].tolist()"
      ]
    },
    {
      "cell_type": "code",
      "execution_count": 4,
      "metadata": {
        "id": "Tbsx1T2CXPNO",
        "outputId": "f90d6e0e-95f3-452d-9757-794ae1040d0a",
        "colab": {
          "base_uri": "https://localhost:8080/"
        }
      },
      "outputs": [
        {
          "output_type": "stream",
          "name": "stdout",
          "text": [
            "So there is no way for me to plug it in here in the US unless I go by a converter.\n",
            "0\n",
            "\n",
            "\n",
            "Good case Excellent value.\n",
            "1\n",
            "\n",
            "\n"
          ]
        }
      ],
      "source": [
        "# Print some example sentences and labels\n",
        "for x in range(2):\n",
        "  print(sentences[x])\n",
        "  print(labels[x])\n",
        "  print(\"\\n\")"
      ]
    },
    {
      "cell_type": "markdown",
      "metadata": {
        "id": "33AthPiALFZK"
      },
      "source": [
        "#Create a subwords dataset\n",
        "\n",
        "We will use the Amazon and Yelp reviews dataset with tensorflow_datasets's SubwordTextEncoder functionality. \n",
        "\n",
        "SubwordTextEncoder.build_from_corpus() will create a tokenizer for us. You could also use this functionality to get subwords from a much larger corpus of text as well, but we'll just use our existing dataset here.\n",
        "\n",
        "We'll create a subword vocab_size of only the 1,000 most common subwords, as well as cutting off each subword to be at most 5 characters.\n",
        "\n",
        "Check out the related documentation for the the subword text encoder [here](https://www.tensorflow.org/datasets/api_docs/python/tfds/features/text/SubwordTextEncoder#build_from_corpus)."
      ]
    },
    {
      "cell_type": "code",
      "execution_count": 5,
      "metadata": {
        "id": "6NaicNCcLYyf",
        "outputId": "553314cf-3eb2-47e6-af36-3cf676f37623",
        "colab": {
          "base_uri": "https://localhost:8080/"
        }
      },
      "outputs": [
        {
          "output_type": "stream",
          "name": "stdout",
          "text": [
            "Vocab size is  999\n"
          ]
        }
      ],
      "source": [
        "import tensorflow_datasets as tfds\n",
        "\n",
        "vocab_size = 1000\n",
        "tokenizer = tfds.deprecated.text.SubwordTextEncoder.build_from_corpus(sentences, vocab_size, max_subword_length=5)\n",
        "\n",
        "# How big is the vocab size?\n",
        "print(\"Vocab size is \", tokenizer.vocab_size)"
      ]
    },
    {
      "cell_type": "code",
      "execution_count": 6,
      "metadata": {
        "id": "xvRVoeIVLevh",
        "outputId": "6fde54cb-9fe7-41d0-8911-28c0ad4f5534",
        "colab": {
          "base_uri": "https://localhost:8080/"
        }
      },
      "outputs": [
        {
          "output_type": "stream",
          "name": "stdout",
          "text": [
            "I have to jiggle the plug to get it to line up right to get decent volume.\n",
            "[4, 31, 6, 849, 162, 450, 12, 1, 600, 438, 775, 6, 175, 14, 6, 55, 213, 159, 474, 775, 6, 175, 614, 380, 295, 148, 72, 789]\n"
          ]
        }
      ],
      "source": [
        "# Check that the tokenizer works appropriately\n",
        "num = 5\n",
        "print(sentences[num])\n",
        "encoded = tokenizer.encode(sentences[num])\n",
        "print(encoded)"
      ]
    },
    {
      "cell_type": "code",
      "execution_count": 7,
      "metadata": {
        "id": "G_vacTCifklV",
        "outputId": "d82c708a-7693-48db-c333-e2d9299d060a",
        "colab": {
          "base_uri": "https://localhost:8080/"
        }
      },
      "outputs": [
        {
          "output_type": "stream",
          "name": "stdout",
          "text": [
            "I \n",
            "have \n",
            "to \n",
            "j\n",
            "ig\n",
            "gl\n",
            "e \n",
            "the \n",
            "pl\n",
            "ug\n",
            " \n",
            "to \n",
            "get \n",
            "it \n",
            "to \n",
            "li\n",
            "ne \n",
            "up \n",
            "right\n",
            " \n",
            "to \n",
            "get \n",
            "dec\n",
            "ent \n",
            "vo\n",
            "lu\n",
            "me\n",
            ".\n"
          ]
        }
      ],
      "source": [
        "# Separately print out each subword, decoded\n",
        "for i in encoded:\n",
        "  print(tokenizer.decode([i]))"
      ]
    },
    {
      "cell_type": "markdown",
      "metadata": {
        "id": "cT528cptLupl"
      },
      "source": [
        "## Replace sentence data with encoded subwords\n",
        "\n",
        "Now, we'll create the sequences to be used for training by actually encoding each of the individual sentences. This is equivalent to `text_to_sequences` with the `Tokenizer` we used in earlier exercises."
      ]
    },
    {
      "cell_type": "code",
      "execution_count": 8,
      "metadata": {
        "id": "lkseMhxjL09F"
      },
      "outputs": [],
      "source": [
        "for i, sentence in enumerate(sentences):\n",
        "  sentences[i] = tokenizer.encode(sentence)"
      ]
    },
    {
      "cell_type": "code",
      "execution_count": 9,
      "metadata": {
        "id": "y21yRuzmL43U",
        "outputId": "fb5b896f-f251-492c-933f-a721263488d8",
        "colab": {
          "base_uri": "https://localhost:8080/"
        }
      },
      "outputs": [
        {
          "output_type": "stream",
          "name": "stdout",
          "text": [
            "[4, 31, 6, 849, 162, 450, 12, 1, 600, 438, 775, 6, 175, 14, 6, 55, 213, 159, 474, 775, 6, 175, 614, 380, 295, 148, 72, 789]\n"
          ]
        }
      ],
      "source": [
        "# Check the sentences are appropriately replaced\n",
        "print(sentences[5])"
      ]
    },
    {
      "cell_type": "markdown",
      "metadata": {
        "id": "8HrcPHESMBMs"
      },
      "source": [
        "## Final pre-processing\n",
        "\n",
        "Before training, we still need to pad the sequences, as well as split into training and test sets."
      ]
    },
    {
      "cell_type": "code",
      "execution_count": 10,
      "metadata": {
        "id": "50-hTsogLSL-"
      },
      "outputs": [],
      "source": [
        "import numpy as np\n",
        "\n",
        "max_length = 50\n",
        "trunc_type='post'\n",
        "padding_type='post'\n",
        "\n",
        "# Pad all sequences\n",
        "sequences_padded = pad_sequences(sentences, maxlen=max_length, \n",
        "                                 padding=padding_type, truncating=trunc_type)\n",
        "\n",
        "# Separate out the sentences and labels into training and test sets\n",
        "training_size = int(len(sentences) * 0.8)\n",
        "\n",
        "training_sequences = sequences_padded[0:training_size]\n",
        "testing_sequences = sequences_padded[training_size:]\n",
        "training_labels = labels[0:training_size]\n",
        "testing_labels = labels[training_size:]\n",
        "\n",
        "# Make labels into numpy arrays for use with the network later\n",
        "training_labels_final = np.array(training_labels)\n",
        "testing_labels_final = np.array(testing_labels)"
      ]
    },
    {
      "cell_type": "markdown",
      "metadata": {
        "id": "PahZm7YEQ8EI"
      },
      "source": [
        "# Create the model using an Embedding"
      ]
    },
    {
      "cell_type": "code",
      "execution_count": 11,
      "metadata": {
        "id": "c_nyQeI0RCCv",
        "outputId": "65f4d6ab-e558-4f49-fe8b-527dc2ea1a05",
        "colab": {
          "base_uri": "https://localhost:8080/"
        }
      },
      "outputs": [
        {
          "output_type": "stream",
          "name": "stdout",
          "text": [
            "Model: \"sequential\"\n",
            "_________________________________________________________________\n",
            " Layer (type)                Output Shape              Param #   \n",
            "=================================================================\n",
            " embedding (Embedding)       (None, 50, 16)            16000     \n",
            "                                                                 \n",
            " global_average_pooling1d (G  (None, 16)               0         \n",
            " lobalAveragePooling1D)                                          \n",
            "                                                                 \n",
            " dense (Dense)               (None, 6)                 102       \n",
            "                                                                 \n",
            " dense_1 (Dense)             (None, 1)                 7         \n",
            "                                                                 \n",
            "=================================================================\n",
            "Total params: 16,109\n",
            "Trainable params: 16,109\n",
            "Non-trainable params: 0\n",
            "_________________________________________________________________\n"
          ]
        }
      ],
      "source": [
        "embedding_dim = 16\n",
        "\n",
        "model = tf.keras.Sequential([\n",
        "    tf.keras.layers.Embedding(vocab_size, embedding_dim, input_length=max_length),\n",
        "    tf.keras.layers.GlobalAveragePooling1D(), \n",
        "    tf.keras.layers.Dense(6, activation='relu'),\n",
        "    tf.keras.layers.Dense(1, activation='sigmoid')\n",
        "])\n",
        "\n",
        "model.summary()"
      ]
    },
    {
      "cell_type": "markdown",
      "metadata": {
        "id": "3WRXrx8BRO2L"
      },
      "source": [
        "# Train the model"
      ]
    },
    {
      "cell_type": "code",
      "execution_count": 12,
      "metadata": {
        "id": "oBKyVYvxRQ_9",
        "outputId": "04c3bb62-cb0c-481f-8494-81d532b30566",
        "colab": {
          "base_uri": "https://localhost:8080/"
        }
      },
      "outputs": [
        {
          "output_type": "stream",
          "name": "stdout",
          "text": [
            "Epoch 1/30\n",
            "50/50 [==============================] - 17s 180ms/step - loss: 0.6929 - accuracy: 0.5248 - val_loss: 0.6924 - val_accuracy: 0.4712\n",
            "Epoch 2/30\n",
            "50/50 [==============================] - 5s 107ms/step - loss: 0.6885 - accuracy: 0.6522 - val_loss: 0.6872 - val_accuracy: 0.7393\n",
            "Epoch 3/30\n",
            "50/50 [==============================] - 4s 73ms/step - loss: 0.6826 - accuracy: 0.6993 - val_loss: 0.6823 - val_accuracy: 0.6942\n",
            "Epoch 4/30\n",
            "50/50 [==============================] - 3s 62ms/step - loss: 0.6730 - accuracy: 0.7433 - val_loss: 0.6737 - val_accuracy: 0.6942\n",
            "Epoch 5/30\n",
            "50/50 [==============================] - 1s 24ms/step - loss: 0.6568 - accuracy: 0.7677 - val_loss: 0.6577 - val_accuracy: 0.7444\n",
            "Epoch 6/30\n",
            "50/50 [==============================] - 1s 23ms/step - loss: 0.6343 - accuracy: 0.8004 - val_loss: 0.6393 - val_accuracy: 0.7669\n",
            "Epoch 7/30\n",
            "50/50 [==============================] - 2s 38ms/step - loss: 0.6063 - accuracy: 0.8117 - val_loss: 0.6175 - val_accuracy: 0.7669\n",
            "Epoch 8/30\n",
            "50/50 [==============================] - 1s 22ms/step - loss: 0.5735 - accuracy: 0.8205 - val_loss: 0.6004 - val_accuracy: 0.7769\n",
            "Epoch 9/30\n",
            "50/50 [==============================] - 0s 9ms/step - loss: 0.5391 - accuracy: 0.8324 - val_loss: 0.5756 - val_accuracy: 0.7870\n",
            "Epoch 10/30\n",
            "50/50 [==============================] - 0s 9ms/step - loss: 0.5031 - accuracy: 0.8512 - val_loss: 0.5556 - val_accuracy: 0.7845\n",
            "Epoch 11/30\n",
            "50/50 [==============================] - 1s 25ms/step - loss: 0.4691 - accuracy: 0.8644 - val_loss: 0.5431 - val_accuracy: 0.7895\n",
            "Epoch 12/30\n",
            "50/50 [==============================] - 1s 9ms/step - loss: 0.4376 - accuracy: 0.8682 - val_loss: 0.5253 - val_accuracy: 0.7845\n",
            "Epoch 13/30\n",
            "50/50 [==============================] - 0s 5ms/step - loss: 0.4095 - accuracy: 0.8776 - val_loss: 0.5241 - val_accuracy: 0.7694\n",
            "Epoch 14/30\n",
            "50/50 [==============================] - 0s 5ms/step - loss: 0.3807 - accuracy: 0.8845 - val_loss: 0.5176 - val_accuracy: 0.7694\n",
            "Epoch 15/30\n",
            "50/50 [==============================] - 1s 20ms/step - loss: 0.3578 - accuracy: 0.8807 - val_loss: 0.5190 - val_accuracy: 0.7444\n",
            "Epoch 16/30\n",
            "50/50 [==============================] - 1s 13ms/step - loss: 0.3369 - accuracy: 0.8939 - val_loss: 0.4994 - val_accuracy: 0.7669\n",
            "Epoch 17/30\n",
            "50/50 [==============================] - 0s 9ms/step - loss: 0.3192 - accuracy: 0.8964 - val_loss: 0.5064 - val_accuracy: 0.7569\n",
            "Epoch 18/30\n",
            "50/50 [==============================] - 0s 9ms/step - loss: 0.3001 - accuracy: 0.9008 - val_loss: 0.5092 - val_accuracy: 0.7519\n",
            "Epoch 19/30\n",
            "50/50 [==============================] - 1s 16ms/step - loss: 0.2849 - accuracy: 0.9083 - val_loss: 0.5031 - val_accuracy: 0.7569\n",
            "Epoch 20/30\n",
            "50/50 [==============================] - 0s 5ms/step - loss: 0.2716 - accuracy: 0.9090 - val_loss: 0.5180 - val_accuracy: 0.7544\n",
            "Epoch 21/30\n",
            "50/50 [==============================] - 0s 5ms/step - loss: 0.2591 - accuracy: 0.9134 - val_loss: 0.5134 - val_accuracy: 0.7569\n",
            "Epoch 22/30\n",
            "50/50 [==============================] - 0s 9ms/step - loss: 0.2461 - accuracy: 0.9184 - val_loss: 0.5095 - val_accuracy: 0.7619\n",
            "Epoch 23/30\n",
            "50/50 [==============================] - 0s 5ms/step - loss: 0.2369 - accuracy: 0.9203 - val_loss: 0.5158 - val_accuracy: 0.7594\n",
            "Epoch 24/30\n",
            "50/50 [==============================] - 0s 5ms/step - loss: 0.2296 - accuracy: 0.9272 - val_loss: 0.5274 - val_accuracy: 0.7519\n",
            "Epoch 25/30\n",
            "50/50 [==============================] - 0s 5ms/step - loss: 0.2173 - accuracy: 0.9316 - val_loss: 0.5520 - val_accuracy: 0.7419\n",
            "Epoch 26/30\n",
            "50/50 [==============================] - 0s 6ms/step - loss: 0.2087 - accuracy: 0.9353 - val_loss: 0.5558 - val_accuracy: 0.7444\n",
            "Epoch 27/30\n",
            "50/50 [==============================] - 1s 20ms/step - loss: 0.2014 - accuracy: 0.9328 - val_loss: 0.5462 - val_accuracy: 0.7469\n",
            "Epoch 28/30\n",
            "50/50 [==============================] - 1s 13ms/step - loss: 0.1941 - accuracy: 0.9391 - val_loss: 0.5652 - val_accuracy: 0.7519\n",
            "Epoch 29/30\n",
            "50/50 [==============================] - 0s 8ms/step - loss: 0.1870 - accuracy: 0.9410 - val_loss: 0.5996 - val_accuracy: 0.7268\n",
            "Epoch 30/30\n",
            "50/50 [==============================] - 1s 13ms/step - loss: 0.1814 - accuracy: 0.9441 - val_loss: 0.5780 - val_accuracy: 0.7519\n"
          ]
        }
      ],
      "source": [
        "num_epochs = 30\n",
        "model.compile(loss='binary_crossentropy',optimizer='adam',metrics=['accuracy'])\n",
        "history = model.fit(training_sequences, training_labels_final, epochs=num_epochs, validation_data=(testing_sequences, testing_labels_final))\n"
      ]
    },
    {
      "cell_type": "markdown",
      "metadata": {
        "id": "HhLPbUl2AZ0y"
      },
      "source": [
        "# Plot the accuracy and loss"
      ]
    },
    {
      "cell_type": "code",
      "execution_count": 13,
      "metadata": {
        "id": "jzBM1PpJAYfD",
        "outputId": "eda3812c-423b-4a5e-a478-3ddc182e618b",
        "colab": {
          "base_uri": "https://localhost:8080/",
          "height": 881
        }
      },
      "outputs": [
        {
          "output_type": "display_data",
          "data": {
            "text/plain": [
              "<Figure size 640x480 with 1 Axes>"
            ],
            "image/png": "[encoded data removed]"
          },
          "metadata": {}
        },
        {
          "output_type": "display_data",
          "data": {
            "text/plain": [
              "<Figure size 640x480 with 1 Axes>"
            ],
            "image/png": "[encoded data removed]"
          },
          "metadata": {}
        }
      ],
      "source": [
        "import matplotlib.pyplot as plt\n",
        "\n",
        "\n",
        "def plot_graphs(history, string):\n",
        "  plt.plot(history.history[string])\n",
        "  plt.plot(history.history['val_'+string])\n",
        "  plt.xlabel(\"Epochs\")\n",
        "  plt.ylabel(string)\n",
        "  plt.legend([string, 'val_'+string])\n",
        "  plt.show()\n",
        "  \n",
        "plot_graphs(history, \"accuracy\")\n",
        "plot_graphs(history, \"loss\")"
      ]
    },
    {
      "cell_type": "markdown",
      "metadata": {
        "id": "Fwr5inBiWffb"
      },
      "source": [
        "# Define a function to predict the sentiment of reviews\n",
        "\n",
        "We'll be creating models with some differences and will use each model to predict the sentiment of some new reviews.\n",
        "\n",
        "To save time, create a function that will take in a model and some new reviews, and print out the sentiment of each reviews.\n",
        "\n",
        "The higher the sentiment value is to 1, the more positive the review is."
      ]
    },
    {
      "cell_type": "code",
      "execution_count": 14,
      "metadata": {
        "id": "aPNOYiiaha2y"
      },
      "outputs": [],
      "source": [
        "# Define a function to take a series of reviews\n",
        "# and predict whether each one is a positive or negative review\n",
        "\n",
        "# max_length = 100 # previously defined\n",
        "\n",
        "def predict_review(model, new_sentences, maxlen=max_length, show_padded_sequence=True ):\n",
        "  # Keep the original sentences so that we can keep using them later\n",
        "  # Create an array to hold the encoded sequences\n",
        "  new_sequences = []\n",
        "\n",
        "  # Convert the new reviews to sequences\n",
        "  for i, frvw in enumerate(new_sentences):\n",
        "    new_sequences.append(tokenizer.encode(frvw))\n",
        "\n",
        "  trunc_type='post' \n",
        "  padding_type='post'\n",
        "\n",
        "  # Pad all sequences for the new reviews\n",
        "  new_reviews_padded = pad_sequences(new_sequences, maxlen=max_length, \n",
        "                                 padding=padding_type, truncating=trunc_type)             \n",
        "\n",
        "  classes = model.predict(new_reviews_padded)\n",
        "\n",
        "  # The closer the class is to 1, the more positive the review is\n",
        "  for x in range(len(new_sentences)):\n",
        "    \n",
        "    # We can see the padded sequence if desired\n",
        "    # Print the sequence\n",
        "    if (show_padded_sequence):\n",
        "      print(new_reviews_padded[x])\n",
        "    # Print the review as text\n",
        "    print(new_sentences[x])\n",
        "    # Print its predicted class\n",
        "    print(classes[x])\n",
        "    print(\"\\n\")"
      ]
    },
    {
      "cell_type": "code",
      "execution_count": 15,
      "metadata": {
        "id": "Qg-maex27KPW",
        "outputId": "e48c0b89-6918-4547-b4a8-0e54b77e7851",
        "colab": {
          "base_uri": "https://localhost:8080/"
        }
      },
      "outputs": [
        {
          "output_type": "stream",
          "name": "stdout",
          "text": [
            "1/1 [==============================] - 0s 75ms/step\n",
            "[  4 281  16  25   0   0   0   0   0   0   0   0   0   0   0   0   0   0\n",
            "   0   0   0   0   0   0   0   0   0   0   0   0   0   0   0   0   0   0\n",
            "   0   0   0   0   0   0   0   0   0   0   0   0   0   0]\n",
            "I love this phone\n",
            "[0.86778504]\n",
            "\n",
            "\n",
            "[812 227 864 100 775   9 525 843   0   0   0   0   0   0   0   0   0   0\n",
            "   0   0   0   0   0   0   0   0   0   0   0   0   0   0   0   0   0   0\n",
            "   0   0   0   0   0   0   0   0   0   0   0   0   0   0]\n",
            "Everything was cold\n",
            "[0.0852043]\n",
            "\n",
            "\n",
            "[812 227 864 100 775   9 109   8 333 731  24  61   4 171  59  77   0   0\n",
            "   0   0   0   0   0   0   0   0   0   0   0   0   0   0   0   0   0   0\n",
            "   0   0   0   0   0   0   0   0   0   0   0   0   0   0]\n",
            "Everything was hot exactly as I wanted\n",
            "[0.28916147]\n",
            "\n",
            "\n",
            "[812 227 864 100 775   9 157 359 853   0   0   0   0   0   0   0   0   0\n",
            "   0   0   0   0   0   0   0   0   0   0   0   0   0   0   0   0   0   0\n",
            "   0   0   0   0   0   0   0   0   0   0   0   0   0   0]\n",
            "Everything was green\n",
            "[0.08077469]\n",
            "\n",
            "\n",
            "[  1 109 228 540 237 635 241 423 340  89 298   0   0   0   0   0   0   0\n",
            "   0   0   0   0   0   0   0   0   0   0   0   0   0   0   0   0   0   0\n",
            "   0   0   0   0   0   0   0   0   0   0   0   0   0   0]\n",
            "the host seated us immediately\n",
            "[0.4602728]\n",
            "\n",
            "\n",
            "[154 242  47 635 341  12 569 547 147 319 775 125  85   0   0   0   0   0\n",
            "   0   0   0   0   0   0   0   0   0   0   0   0   0   0   0   0   0   0\n",
            "   0   0   0   0   0   0   0   0   0   0   0   0   0   0]\n",
            "they gave us free chocolate cake\n",
            "[0.63122964]\n",
            "\n",
            "\n",
            "[158 190 853 782   8 607 775 210 232 146 775 470  67 305 101  15   1 328\n",
            " 296  26  19   1 661 641 195   0   0   0   0   0   0   0   0   0   0   0\n",
            "   0   0   0   0   0   0   0   0   0   0   0   0   0   0]\n",
            "we couldn't hear each other talk because of the shouting in the kitchen\n",
            "[0.01365251]\n",
            "\n",
            "\n"
          ]
        }
      ],
      "source": [
        "# Use the model to predict some reviews   \n",
        "fake_reviews = [\"I love this phone\", \n",
        "                \"Everything was cold\",\n",
        "                \"Everything was hot exactly as I wanted\", \n",
        "                \"Everything was green\", \n",
        "                \"the host seated us immediately\",\n",
        "                \"they gave us free chocolate cake\", \n",
        "                \"we couldn't hear each other talk because of the shouting in the kitchen\"\n",
        "              ]\n",
        "\n",
        "predict_review(model, fake_reviews)\n"
      ]
    },
    {
      "cell_type": "markdown",
      "metadata": {
        "id": "ycJKbMq3K4iy"
      },
      "source": [
        "# Define a function to train and show the results of models with different layers\n",
        "\n",
        "In the rest of this colab, we will define models, and then see the results. \n",
        "\n",
        "Define a function that will take the model, compile it, train it, graph the accuracy and loss, and then predict some results."
      ]
    },
    {
      "cell_type": "code",
      "execution_count": 16,
      "metadata": {
        "id": "PevUcINXK3gn"
      },
      "outputs": [],
      "source": [
        "def fit_model_now (model, sentences) :\n",
        "  model.compile(loss='binary_crossentropy',optimizer='adam',metrics=['accuracy'])\n",
        "  model.summary()\n",
        "  history = model.fit(training_sequences, training_labels_final, epochs=num_epochs, \n",
        "                      validation_data=(testing_sequences, testing_labels_final))\n",
        "  return history\n",
        "\n",
        "def plot_results (history):\n",
        "  plot_graphs(history, \"accuracy\")\n",
        "  plot_graphs(history, \"loss\")\n",
        "\n",
        "def fit_model_and_show_results (model, sentences):\n",
        "  history = fit_model_now(model, sentences)\n",
        "  plot_results(history)\n",
        "  predict_review(model, sentences)"
      ]
    },
    {
      "cell_type": "markdown",
      "metadata": {
        "id": "U13JBiJUG1oq"
      },
      "source": [
        "# Add a bidirectional LSTM\n",
        "\n",
        "Create a new model that uses a bidirectional LSTM.\n",
        "\n",
        "Then use the function we have already defined to compile the model, train it, graph the accuracy and loss, then predict some results."
      ]
    },
    {
      "cell_type": "code",
      "execution_count": 17,
      "metadata": {
        "id": "scTUsFPAG4zP",
        "outputId": "c4503485-9f5f-4932-9e48-ba2ea894cef4",
        "colab": {
          "base_uri": "https://localhost:8080/",
          "height": 1000
        }
      },
      "outputs": [
        {
          "output_type": "stream",
          "name": "stdout",
          "text": [
            "Model: \"sequential_1\"\n",
            "_________________________________________________________________\n",
            " Layer (type)                Output Shape              Param #   \n",
            "=================================================================\n",
            " embedding_1 (Embedding)     (None, 50, 16)            16000     \n",
            "                                                                 \n",
            " bidirectional (Bidirectiona  (None, 32)               4224      \n",
            " l)                                                              \n",
            "                                                                 \n",
            " dense_2 (Dense)             (None, 6)                 198       \n",
            "                                                                 \n",
            " dense_3 (Dense)             (None, 1)                 7         \n",
            "                                                                 \n",
            "=================================================================\n",
            "Total params: 20,429\n",
            "Trainable params: 20,429\n",
            "Non-trainable params: 0\n",
            "_________________________________________________________________\n",
            "Epoch 1/30\n",
            "50/50 [==============================] - 15s 199ms/step - loss: 0.6915 - accuracy: 0.5160 - val_loss: 0.6989 - val_accuracy: 0.4110\n",
            "Epoch 2/30\n",
            "50/50 [==============================] - 5s 88ms/step - loss: 0.6676 - accuracy: 0.5731 - val_loss: 0.7301 - val_accuracy: 0.5038\n",
            "Epoch 3/30\n",
            "50/50 [==============================] - 3s 55ms/step - loss: 0.5472 - accuracy: 0.7602 - val_loss: 0.5420 - val_accuracy: 0.7419\n",
            "Epoch 4/30\n",
            "50/50 [==============================] - 2s 49ms/step - loss: 0.3725 - accuracy: 0.8594 - val_loss: 0.5311 - val_accuracy: 0.7494\n",
            "Epoch 5/30\n",
            "50/50 [==============================] - 2s 45ms/step - loss: 0.2856 - accuracy: 0.8908 - val_loss: 0.5359 - val_accuracy: 0.7619\n",
            "Epoch 6/30\n",
            "50/50 [==============================] - 1s 21ms/step - loss: 0.2302 - accuracy: 0.9209 - val_loss: 0.6617 - val_accuracy: 0.7544\n",
            "Epoch 7/30\n",
            "50/50 [==============================] - 1s 27ms/step - loss: 0.1875 - accuracy: 0.9316 - val_loss: 0.6667 - val_accuracy: 0.7519\n",
            "Epoch 8/30\n",
            "50/50 [==============================] - 1s 18ms/step - loss: 0.1942 - accuracy: 0.9347 - val_loss: 0.9182 - val_accuracy: 0.7243\n",
            "Epoch 9/30\n",
            "50/50 [==============================] - 1s 24ms/step - loss: 0.1703 - accuracy: 0.9410 - val_loss: 0.8380 - val_accuracy: 0.7444\n",
            "Epoch 10/30\n",
            "50/50 [==============================] - 1s 10ms/step - loss: 0.1304 - accuracy: 0.9642 - val_loss: 0.7943 - val_accuracy: 0.7494\n",
            "Epoch 11/30\n",
            "50/50 [==============================] - 1s 19ms/step - loss: 0.0995 - accuracy: 0.9761 - val_loss: 0.9481 - val_accuracy: 0.7293\n",
            "Epoch 12/30\n",
            "50/50 [==============================] - 1s 16ms/step - loss: 0.0858 - accuracy: 0.9812 - val_loss: 1.0648 - val_accuracy: 0.7393\n",
            "Epoch 13/30\n",
            "50/50 [==============================] - 1s 14ms/step - loss: 0.0712 - accuracy: 0.9874 - val_loss: 1.0963 - val_accuracy: 0.7393\n",
            "Epoch 14/30\n",
            "50/50 [==============================] - 1s 10ms/step - loss: 0.0659 - accuracy: 0.9881 - val_loss: 1.0837 - val_accuracy: 0.7368\n",
            "Epoch 15/30\n",
            "50/50 [==============================] - 1s 20ms/step - loss: 0.0709 - accuracy: 0.9837 - val_loss: 1.0390 - val_accuracy: 0.7318\n",
            "Epoch 16/30\n",
            "50/50 [==============================] - 1s 29ms/step - loss: 0.0788 - accuracy: 0.9793 - val_loss: 1.1048 - val_accuracy: 0.7243\n",
            "Epoch 17/30\n",
            "50/50 [==============================] - 1s 22ms/step - loss: 0.0621 - accuracy: 0.9849 - val_loss: 1.1993 - val_accuracy: 0.7519\n",
            "Epoch 18/30\n",
            "50/50 [==============================] - 2s 40ms/step - loss: 0.0623 - accuracy: 0.9868 - val_loss: 1.3960 - val_accuracy: 0.7469\n",
            "Epoch 19/30\n",
            "50/50 [==============================] - 1s 10ms/step - loss: 0.0520 - accuracy: 0.9887 - val_loss: 1.2302 - val_accuracy: 0.7569\n",
            "Epoch 20/30\n",
            "50/50 [==============================] - 1s 13ms/step - loss: 0.0491 - accuracy: 0.9900 - val_loss: 1.2756 - val_accuracy: 0.7494\n",
            "Epoch 21/30\n",
            "50/50 [==============================] - 1s 17ms/step - loss: 0.0444 - accuracy: 0.9925 - val_loss: 1.3932 - val_accuracy: 0.7444\n",
            "Epoch 22/30\n",
            "50/50 [==============================] - 1s 21ms/step - loss: 0.0418 - accuracy: 0.9925 - val_loss: 1.4192 - val_accuracy: 0.7444\n",
            "Epoch 23/30\n",
            "50/50 [==============================] - 0s 10ms/step - loss: 0.0407 - accuracy: 0.9925 - val_loss: 1.4198 - val_accuracy: 0.7444\n",
            "Epoch 24/30\n",
            "50/50 [==============================] - 0s 10ms/step - loss: 0.0399 - accuracy: 0.9925 - val_loss: 1.4673 - val_accuracy: 0.7368\n",
            "Epoch 25/30\n",
            "50/50 [==============================] - 1s 16ms/step - loss: 0.0394 - accuracy: 0.9925 - val_loss: 1.4743 - val_accuracy: 0.7368\n",
            "Epoch 26/30\n",
            "50/50 [==============================] - 0s 10ms/step - loss: 0.0390 - accuracy: 0.9925 - val_loss: 1.4566 - val_accuracy: 0.7393\n",
            "Epoch 27/30\n",
            "50/50 [==============================] - 1s 10ms/step - loss: 0.0384 - accuracy: 0.9925 - val_loss: 1.4871 - val_accuracy: 0.7419\n",
            "Epoch 28/30\n",
            "50/50 [==============================] - 1s 18ms/step - loss: 0.0381 - accuracy: 0.9925 - val_loss: 1.5291 - val_accuracy: 0.7368\n",
            "Epoch 29/30\n",
            "50/50 [==============================] - 1s 14ms/step - loss: 0.0377 - accuracy: 0.9925 - val_loss: 1.4689 - val_accuracy: 0.7494\n",
            "Epoch 30/30\n",
            "50/50 [==============================] - 1s 17ms/step - loss: 0.0429 - accuracy: 0.9912 - val_loss: 1.5588 - val_accuracy: 0.7193\n"
          ]
        },
        {
          "output_type": "display_data",
          "data": {
            "text/plain": [
              "<Figure size 640x480 with 1 Axes>"
            ],
            "image/png": "[encoded data removed]"
          },
          "metadata": {}
        },
        {
          "output_type": "display_data",
          "data": {
            "text/plain": [
              "<Figure size 640x480 with 1 Axes>"
            ],
            "image/png": "[encoded data removed]"
          },
          "metadata": {}
        },
        {
          "output_type": "stream",
          "name": "stdout",
          "text": [
            "1/1 [==============================] - 1s 862ms/step\n",
            "[  4 281  16  25   0   0   0   0   0   0   0   0   0   0   0   0   0   0\n",
            "   0   0   0   0   0   0   0   0   0   0   0   0   0   0   0   0   0   0\n",
            "   0   0   0   0   0   0   0   0   0   0   0   0   0   0]\n",
            "I love this phone\n",
            "[0.9999511]\n",
            "\n",
            "\n",
            "[812 227 864 100 775   9 525 843   0   0   0   0   0   0   0   0   0   0\n",
            "   0   0   0   0   0   0   0   0   0   0   0   0   0   0   0   0   0   0\n",
            "   0   0   0   0   0   0   0   0   0   0   0   0   0   0]\n",
            "Everything was cold\n",
            "[0.01615885]\n",
            "\n",
            "\n",
            "[812 227 864 100 775   9 109   8 333 731  24  61   4 171  59  77   0   0\n",
            "   0   0   0   0   0   0   0   0   0   0   0   0   0   0   0   0   0   0\n",
            "   0   0   0   0   0   0   0   0   0   0   0   0   0   0]\n",
            "Everything was hot exactly as I wanted\n",
            "[0.80322474]\n",
            "\n",
            "\n",
            "[812 227 864 100 775   9 157 359 853   0   0   0   0   0   0   0   0   0\n",
            "   0   0   0   0   0   0   0   0   0   0   0   0   0   0   0   0   0   0\n",
            "   0   0   0   0   0   0   0   0   0   0   0   0   0   0]\n",
            "Everything was green\n",
            "[0.93428004]\n",
            "\n",
            "\n",
            "[  1 109 228 540 237 635 241 423 340  89 298   0   0   0   0   0   0   0\n",
            "   0   0   0   0   0   0   0   0   0   0   0   0   0   0   0   0   0   0\n",
            "   0   0   0   0   0   0   0   0   0   0   0   0   0   0]\n",
            "the host seated us immediately\n",
            "[0.0250791]\n",
            "\n",
            "\n",
            "[154 242  47 635 341  12 569 547 147 319 775 125  85   0   0   0   0   0\n",
            "   0   0   0   0   0   0   0   0   0   0   0   0   0   0   0   0   0   0\n",
            "   0   0   0   0   0   0   0   0   0   0   0   0   0   0]\n",
            "they gave us free chocolate cake\n",
            "[0.9999107]\n",
            "\n",
            "\n",
            "[158 190 853 782   8 607 775 210 232 146 775 470  67 305 101  15   1 328\n",
            " 296  26  19   1 661 641 195   0   0   0   0   0   0   0   0   0   0   0\n",
            "   0   0   0   0   0   0   0   0   0   0   0   0   0   0]\n",
            "we couldn't hear each other talk because of the shouting in the kitchen\n",
            "[0.01925755]\n",
            "\n",
            "\n"
          ]
        }
      ],
      "source": [
        "# Define the model\n",
        "model_bidi_lstm = tf.keras.Sequential([\n",
        "    tf.keras.layers.Embedding(vocab_size, embedding_dim, input_length=max_length),\n",
        "    tf.keras.layers.Bidirectional(tf.keras.layers.LSTM(embedding_dim)), \n",
        "    tf.keras.layers.Dense(6, activation='relu'), \n",
        "    tf.keras.layers.Dense(1, activation='sigmoid')\n",
        "])\n",
        "\n",
        "# Compile and train the model and then show the predictions for our extra sentences\n",
        "fit_model_and_show_results(model_bidi_lstm, fake_reviews)\n"
      ]
    },
    {
      "cell_type": "markdown",
      "metadata": {
        "id": "QsxKPbCnPJTj"
      },
      "source": [
        "# Use multiple bidirectional layers\n",
        "\n",
        "Now let's see if we get any improvements from adding another Bidirectional LSTM layer to the model.\n",
        "\n",
        "Notice that the first Bidirectionl LSTM layer returns a sequence."
      ]
    },
    {
      "cell_type": "code",
      "execution_count": 18,
      "metadata": {
        "id": "3N6Zul47PMED",
        "outputId": "22e61e03-7dac-479a-ddb1-0ce716cb2879",
        "colab": {
          "base_uri": "https://localhost:8080/",
          "height": 1000
        }
      },
      "outputs": [
        {
          "output_type": "stream",
          "name": "stdout",
          "text": [
            "Model: \"sequential_2\"\n",
            "_________________________________________________________________\n",
            " Layer (type)                Output Shape              Param #   \n",
            "=================================================================\n",
            " embedding_2 (Embedding)     (None, 50, 16)            16000     \n",
            "                                                                 \n",
            " bidirectional_1 (Bidirectio  (None, 50, 32)           4224      \n",
            " nal)                                                            \n",
            "                                                                 \n",
            " bidirectional_2 (Bidirectio  (None, 32)               6272      \n",
            " nal)                                                            \n",
            "                                                                 \n",
            " dense_4 (Dense)             (None, 6)                 198       \n",
            "                                                                 \n",
            " dense_5 (Dense)             (None, 1)                 7         \n",
            "                                                                 \n",
            "=================================================================\n",
            "Total params: 26,701\n",
            "Trainable params: 26,701\n",
            "Non-trainable params: 0\n",
            "_________________________________________________________________\n",
            "Epoch 1/30\n",
            "50/50 [==============================] - 18s 190ms/step - loss: 0.6930 - accuracy: 0.5185 - val_loss: 0.6949 - val_accuracy: 0.4110\n",
            "Epoch 2/30\n",
            "50/50 [==============================] - 4s 83ms/step - loss: 0.6883 - accuracy: 0.5223 - val_loss: 0.6912 - val_accuracy: 0.4185\n",
            "Epoch 3/30\n",
            "50/50 [==============================] - 3s 55ms/step - loss: 0.5561 - accuracy: 0.7476 - val_loss: 0.5117 - val_accuracy: 0.7619\n",
            "Epoch 4/30\n",
            "50/50 [==============================] - 2s 43ms/step - loss: 0.3919 - accuracy: 0.8475 - val_loss: 0.5103 - val_accuracy: 0.7694\n",
            "Epoch 5/30\n",
            "50/50 [==============================] - 1s 29ms/step - loss: 0.2966 - accuracy: 0.8958 - val_loss: 0.5823 - val_accuracy: 0.7519\n",
            "Epoch 6/30\n",
            "50/50 [==============================] - 1s 29ms/step - loss: 0.2485 - accuracy: 0.9215 - val_loss: 0.6759 - val_accuracy: 0.7293\n",
            "Epoch 7/30\n",
            "50/50 [==============================] - 2s 43ms/step - loss: 0.2071 - accuracy: 0.9404 - val_loss: 0.7409 - val_accuracy: 0.7419\n",
            "Epoch 8/30\n",
            "50/50 [==============================] - 1s 27ms/step - loss: 0.1836 - accuracy: 0.9479 - val_loss: 0.8160 - val_accuracy: 0.7243\n",
            "Epoch 9/30\n",
            "50/50 [==============================] - 1s 22ms/step - loss: 0.1565 - accuracy: 0.9605 - val_loss: 0.8665 - val_accuracy: 0.7193\n",
            "Epoch 10/30\n",
            "50/50 [==============================] - 1s 18ms/step - loss: 0.1419 - accuracy: 0.9655 - val_loss: 0.8278 - val_accuracy: 0.7318\n",
            "Epoch 11/30\n",
            "50/50 [==============================] - 1s 30ms/step - loss: 0.1307 - accuracy: 0.9692 - val_loss: 0.8630 - val_accuracy: 0.7368\n",
            "Epoch 12/30\n",
            "50/50 [==============================] - 1s 24ms/step - loss: 0.1236 - accuracy: 0.9705 - val_loss: 0.8167 - val_accuracy: 0.7293\n",
            "Epoch 13/30\n",
            "50/50 [==============================] - 1s 25ms/step - loss: 0.1182 - accuracy: 0.9724 - val_loss: 0.8374 - val_accuracy: 0.7368\n",
            "Epoch 14/30\n",
            "50/50 [==============================] - 1s 23ms/step - loss: 0.1156 - accuracy: 0.9699 - val_loss: 0.8388 - val_accuracy: 0.7444\n",
            "Epoch 15/30\n",
            "50/50 [==============================] - 1s 24ms/step - loss: 0.1120 - accuracy: 0.9718 - val_loss: 0.8827 - val_accuracy: 0.7368\n",
            "Epoch 16/30\n",
            "50/50 [==============================] - 1s 21ms/step - loss: 0.0986 - accuracy: 0.9799 - val_loss: 0.9673 - val_accuracy: 0.7343\n",
            "Epoch 17/30\n",
            "50/50 [==============================] - 1s 26ms/step - loss: 0.0956 - accuracy: 0.9805 - val_loss: 0.8886 - val_accuracy: 0.7469\n",
            "Epoch 18/30\n",
            "50/50 [==============================] - 1s 22ms/step - loss: 0.0981 - accuracy: 0.9780 - val_loss: 0.9027 - val_accuracy: 0.7444\n",
            "Epoch 19/30\n",
            "50/50 [==============================] - 1s 19ms/step - loss: 0.1081 - accuracy: 0.9749 - val_loss: 0.9104 - val_accuracy: 0.7368\n",
            "Epoch 20/30\n",
            "50/50 [==============================] - 1s 18ms/step - loss: 0.0969 - accuracy: 0.9787 - val_loss: 0.8701 - val_accuracy: 0.7469\n",
            "Epoch 21/30\n",
            "50/50 [==============================] - 1s 25ms/step - loss: 0.0866 - accuracy: 0.9799 - val_loss: 0.9373 - val_accuracy: 0.7519\n",
            "Epoch 22/30\n",
            "50/50 [==============================] - 1s 23ms/step - loss: 0.0936 - accuracy: 0.9768 - val_loss: 0.8702 - val_accuracy: 0.7694\n",
            "Epoch 23/30\n",
            "50/50 [==============================] - 1s 15ms/step - loss: 0.0932 - accuracy: 0.9780 - val_loss: 0.9853 - val_accuracy: 0.7494\n",
            "Epoch 24/30\n",
            "50/50 [==============================] - 1s 20ms/step - loss: 0.0956 - accuracy: 0.9743 - val_loss: 0.9332 - val_accuracy: 0.7519\n",
            "Epoch 25/30\n",
            "50/50 [==============================] - 1s 21ms/step - loss: 0.0961 - accuracy: 0.9761 - val_loss: 1.0008 - val_accuracy: 0.7293\n",
            "Epoch 26/30\n",
            "50/50 [==============================] - 1s 16ms/step - loss: 0.0812 - accuracy: 0.9831 - val_loss: 0.9767 - val_accuracy: 0.7519\n",
            "Epoch 27/30\n",
            "50/50 [==============================] - 1s 15ms/step - loss: 0.0684 - accuracy: 0.9862 - val_loss: 0.9989 - val_accuracy: 0.7594\n",
            "Epoch 28/30\n",
            "50/50 [==============================] - 1s 17ms/step - loss: 0.0670 - accuracy: 0.9868 - val_loss: 1.0443 - val_accuracy: 0.7594\n",
            "Epoch 29/30\n",
            "50/50 [==============================] - 1s 16ms/step - loss: 0.0653 - accuracy: 0.9868 - val_loss: 1.0694 - val_accuracy: 0.7569\n",
            "Epoch 30/30\n",
            "50/50 [==============================] - 1s 21ms/step - loss: 0.0653 - accuracy: 0.9868 - val_loss: 1.0434 - val_accuracy: 0.7569\n"
          ]
        },
        {
          "output_type": "display_data",
          "data": {
            "text/plain": [
              "<Figure size 640x480 with 1 Axes>"
            ],
            "image/png": "[encoded data removed]"
          },
          "metadata": {}
        },
        {
          "output_type": "display_data",
          "data": {
            "text/plain": [
              "<Figure size 640x480 with 1 Axes>"
            ],
            "image/png": "[encoded data removed]"
          },
          "metadata": {}
        },
        {
          "output_type": "stream",
          "name": "stdout",
          "text": [
            "1/1 [==============================] - 1s 1s/step\n",
            "[  4 281  16  25   0   0   0   0   0   0   0   0   0   0   0   0   0   0\n",
            "   0   0   0   0   0   0   0   0   0   0   0   0   0   0   0   0   0   0\n",
            "   0   0   0   0   0   0   0   0   0   0   0   0   0   0]\n",
            "I love this phone\n",
            "[0.99467176]\n",
            "\n",
            "\n",
            "[812 227 864 100 775   9 525 843   0   0   0   0   0   0   0   0   0   0\n",
            "   0   0   0   0   0   0   0   0   0   0   0   0   0   0   0   0   0   0\n",
            "   0   0   0   0   0   0   0   0   0   0   0   0   0   0]\n",
            "Everything was cold\n",
            "[0.02061169]\n",
            "\n",
            "\n",
            "[812 227 864 100 775   9 109   8 333 731  24  61   4 171  59  77   0   0\n",
            "   0   0   0   0   0   0   0   0   0   0   0   0   0   0   0   0   0   0\n",
            "   0   0   0   0   0   0   0   0   0   0   0   0   0   0]\n",
            "Everything was hot exactly as I wanted\n",
            "[0.01841681]\n",
            "\n",
            "\n",
            "[812 227 864 100 775   9 157 359 853   0   0   0   0   0   0   0   0   0\n",
            "   0   0   0   0   0   0   0   0   0   0   0   0   0   0   0   0   0   0\n",
            "   0   0   0   0   0   0   0   0   0   0   0   0   0   0]\n",
            "Everything was green\n",
            "[0.01825354]\n",
            "\n",
            "\n",
            "[  1 109 228 540 237 635 241 423 340  89 298   0   0   0   0   0   0   0\n",
            "   0   0   0   0   0   0   0   0   0   0   0   0   0   0   0   0   0   0\n",
            "   0   0   0   0   0   0   0   0   0   0   0   0   0   0]\n",
            "the host seated us immediately\n",
            "[0.02419891]\n",
            "\n",
            "\n",
            "[154 242  47 635 341  12 569 547 147 319 775 125  85   0   0   0   0   0\n",
            "   0   0   0   0   0   0   0   0   0   0   0   0   0   0   0   0   0   0\n",
            "   0   0   0   0   0   0   0   0   0   0   0   0   0   0]\n",
            "they gave us free chocolate cake\n",
            "[0.9844357]\n",
            "\n",
            "\n",
            "[158 190 853 782   8 607 775 210 232 146 775 470  67 305 101  15   1 328\n",
            " 296  26  19   1 661 641 195   0   0   0   0   0   0   0   0   0   0   0\n",
            "   0   0   0   0   0   0   0   0   0   0   0   0   0   0]\n",
            "we couldn't hear each other talk because of the shouting in the kitchen\n",
            "[0.02458396]\n",
            "\n",
            "\n"
          ]
        }
      ],
      "source": [
        "model_multiple_bidi_lstm = tf.keras.Sequential([\n",
        "    tf.keras.layers.Embedding(vocab_size, embedding_dim, input_length=max_length),\n",
        "    tf.keras.layers.Bidirectional(tf.keras.layers.LSTM(embedding_dim, \n",
        "                                                       return_sequences=True)), \n",
        "    tf.keras.layers.Bidirectional(tf.keras.layers.LSTM(embedding_dim)),\n",
        "    tf.keras.layers.Dense(6, activation='relu'),\n",
        "    tf.keras.layers.Dense(1, activation='sigmoid')\n",
        "])\n",
        "\n",
        "fit_model_and_show_results(model_multiple_bidi_lstm, fake_reviews)"
      ]
    },
    {
      "cell_type": "markdown",
      "metadata": {
        "id": "ABVYYPwba8Hx"
      },
      "source": [
        "# Compare predictions for all the models\n",
        "\n",
        "It can be hard to see which model gives a better prediction for different reviews when you examine each model separately. So for comparison purposes, here we define some more reviews and print out the predictions that each of the three models gives for each review:\n",
        "\n",
        "*   Embeddings and a Global Average Pooling layer\n",
        "*   Embeddings and a Bidirectional LSTM layer\n",
        "*   Embeddings and two Bidirectional LSTM layers\n",
        "\n",
        "The results are not always what you might expect. The input dataset is fairly small, it has less than 2000 reviews. Some of the reviews are fairly short, and some of the short ones are fairly repetitive which reduces their impact on improving the  model, such as these two reviews:\n",
        "\n",
        "*   Bad Quality.\n",
        "*   Low Quality.\n",
        "\n",
        "Feel free to add more reviews of your own, or change the reviews. The results will depend on the combination of words in the reviews, and how well they match to reviews in the training set. \n",
        "\n",
        "How do the different models handle things like \"wasn't good\" which contains a positive word (good) but is a poor review?\n"
      ]
    },
    {
      "cell_type": "code",
      "execution_count": 19,
      "metadata": {
        "id": "6XebrXt0jtOy"
      },
      "outputs": [],
      "source": [
        "my_reviews =[\"lovely\", \"dreadful\", \"stay away\",\n",
        "             \"everything was hot exactly as I wanted\",\n",
        "             \"everything was not exactly as I wanted\",\n",
        "             \"they gave us free chocolate cake\",\n",
        "             \"I've never eaten anything so spicy in my life, my throat burned for hours\",\n",
        "             \"for a phone that is as expensive as this one I expect it to be much easier to use than this thing is\",\n",
        "             \"we left there very full for a low price so I'd say you just can't go wrong at this place\",\n",
        "             \"that place does not have quality meals and it isn't a good place to go for dinner\",\n",
        "             ]"
      ]
    },
    {
      "cell_type": "code",
      "execution_count": 20,
      "metadata": {
        "id": "tRWGjkJLkY2y",
        "outputId": "c17aa374-f636-493c-a5e4-9022d5a44d66",
        "colab": {
          "base_uri": "https://localhost:8080/"
        }
      },
      "outputs": [
        {
          "output_type": "stream",
          "name": "stdout",
          "text": [
            "===================================\n",
            " Embeddings only:\n",
            " ===================================\n",
            "1/1 [==============================] - 0s 20ms/step\n",
            "lovely\n",
            "[0.90486586]\n",
            "\n",
            "\n",
            "dreadful\n",
            "[0.25953194]\n",
            "\n",
            "\n",
            "stay away\n",
            "[0.57859075]\n",
            "\n",
            "\n",
            "everything was hot exactly as I wanted\n",
            "[0.6954868]\n",
            "\n",
            "\n",
            "everything was not exactly as I wanted\n",
            "[0.4439045]\n",
            "\n",
            "\n",
            "they gave us free chocolate cake\n",
            "[0.63122964]\n",
            "\n",
            "\n",
            "I've never eaten anything so spicy in my life, my throat burned for hours\n",
            "[0.01840829]\n",
            "\n",
            "\n",
            "for a phone that is as expensive as this one I expect it to be much easier to use than this thing is\n",
            "[0.6295337]\n",
            "\n",
            "\n",
            "we left there very full for a low price so I'd say you just can't go wrong at this place\n",
            "[0.7468465]\n",
            "\n",
            "\n",
            "that place does not have quality meals and it isn't a good place to go for dinner\n",
            "[0.8088035]\n",
            "\n",
            "\n"
          ]
        }
      ],
      "source": [
        "print(\"===================================\\n\",\"Embeddings only:\\n\", \"===================================\",)\n",
        "predict_review(model, my_reviews, show_padded_sequence=False)"
      ]
    },
    {
      "cell_type": "code",
      "execution_count": 21,
      "metadata": {
        "id": "G2FJR3IVBt30",
        "outputId": "009e980f-bf97-4294-e9de-5eb16b3db420",
        "colab": {
          "base_uri": "https://localhost:8080/"
        }
      },
      "outputs": [
        {
          "output_type": "stream",
          "name": "stdout",
          "text": [
            "===================================\n",
            " With a single bidirectional LSTM:\n",
            " ===================================\n",
            "1/1 [==============================] - 0s 21ms/step\n",
            "lovely\n",
            "[0.99988544]\n",
            "\n",
            "\n",
            "dreadful\n",
            "[0.02958475]\n",
            "\n",
            "\n",
            "stay away\n",
            "[0.6435691]\n",
            "\n",
            "\n",
            "everything was hot exactly as I wanted\n",
            "[0.99154925]\n",
            "\n",
            "\n",
            "everything was not exactly as I wanted\n",
            "[0.01857696]\n",
            "\n",
            "\n",
            "they gave us free chocolate cake\n",
            "[0.9999107]\n",
            "\n",
            "\n",
            "I've never eaten anything so spicy in my life, my throat burned for hours\n",
            "[0.02537303]\n",
            "\n",
            "\n",
            "for a phone that is as expensive as this one I expect it to be much easier to use than this thing is\n",
            "[0.0302941]\n",
            "\n",
            "\n",
            "we left there very full for a low price so I'd say you just can't go wrong at this place\n",
            "[0.99995303]\n",
            "\n",
            "\n",
            "that place does not have quality meals and it isn't a good place to go for dinner\n",
            "[0.99913675]\n",
            "\n",
            "\n"
          ]
        }
      ],
      "source": [
        "print(\"===================================\\n\", \"With a single bidirectional LSTM:\\n\", \"===================================\")\n",
        "predict_review(model_bidi_lstm, my_reviews, show_padded_sequence=False)"
      ]
    },
    {
      "cell_type": "code",
      "execution_count": 22,
      "metadata": {
        "id": "81v1r3Y2BwvC",
        "outputId": "33dfb035-29d7-48ee-becc-739689b43388",
        "colab": {
          "base_uri": "https://localhost:8080/"
        }
      },
      "outputs": [
        {
          "output_type": "stream",
          "name": "stdout",
          "text": [
            "===================================\n",
            " With two bidirectional LSTMs:\n",
            " ===================================\n",
            "1/1 [==============================] - 0s 23ms/step\n",
            "lovely\n",
            "[0.99411064]\n",
            "\n",
            "\n",
            "dreadful\n",
            "[0.01708887]\n",
            "\n",
            "\n",
            "stay away\n",
            "[0.01728735]\n",
            "\n",
            "\n",
            "everything was hot exactly as I wanted\n",
            "[0.99355]\n",
            "\n",
            "\n",
            "everything was not exactly as I wanted\n",
            "[0.01803933]\n",
            "\n",
            "\n",
            "they gave us free chocolate cake\n",
            "[0.9844357]\n",
            "\n",
            "\n",
            "I've never eaten anything so spicy in my life, my throat burned for hours\n",
            "[0.01899797]\n",
            "\n",
            "\n",
            "for a phone that is as expensive as this one I expect it to be much easier to use than this thing is\n",
            "[0.01632645]\n",
            "\n",
            "\n",
            "we left there very full for a low price so I'd say you just can't go wrong at this place\n",
            "[0.01588483]\n",
            "\n",
            "\n",
            "that place does not have quality meals and it isn't a good place to go for dinner\n",
            "[0.9870482]\n",
            "\n",
            "\n"
          ]
        }
      ],
      "source": [
        "print(\"===================================\\n\",\"With two bidirectional LSTMs:\\n\", \"===================================\")\n",
        "predict_review(model_multiple_bidi_lstm, my_reviews, show_padded_sequence=False)"
      ]
    }
  ],
  "metadata": {
    "accelerator": "GPU",
    "colab": {
      "name": "l10c01_nlp_lstms_with_reviews_subwords_dataset.ipynb",
      "provenance": []
    },
    "kernelspec": {
      "display_name": "Python 3",
      "name": "python3"
    }
  },
  "nbformat": 4,
  "nbformat_minor": 0
}
