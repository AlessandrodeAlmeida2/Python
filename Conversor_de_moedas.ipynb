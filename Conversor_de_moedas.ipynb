{
  "nbformat": 4,
  "nbformat_minor": 0,
  "metadata": {
    "colab": {
      "provenance": [],
      "toc_visible": true,
      "authorship_tag": "ABX9TyPSTCFiUfish3N8aKcEbWQy",
      "include_colab_link": true
    },
    "kernelspec": {
      "name": "python3",
      "display_name": "Python 3"
    },
    "language_info": {
      "name": "python"
    }
  },
  "cells": [
    {
      "cell_type": "markdown",
      "metadata": {
        "id": "view-in-github",
        "colab_type": "text"
      },
      "source": [
        "<a href=\"https://colab.research.google.com/github/AlessandrodeAlmeida2/AlessandrodeAlmeida2/blob/main/Conversor_de_moedas.ipynb\" target=\"_parent\"><img src=\"https://colab.research.google.com/assets/colab-badge.svg\" alt=\"Open In Colab\"/></a>"
      ]
    },
    {
      "cell_type": "code",
      "execution_count": 6,
      "metadata": {
        "colab": {
          "base_uri": "https://localhost:8080/"
        },
        "id": "X3NmkDcgLNCh",
        "outputId": "2adb2973-c4ac-4ce9-e246-e2757d25c85c"
      },
      "outputs": [
        {
          "output_type": "stream",
          "name": "stdout",
          "text": [
            "Digite o valor a ser convertido: 12\n",
            "Digite a moeda de origem: USD\n",
            "Digite a moeda de destino: BRL\n",
            "O valor convertido é: 59.88 BRL\n"
          ]
        }
      ],
      "source": [
        "# Importando as bibliotecas necessárias\n",
        "import requests\n",
        "\n",
        "# Lista predefinida de moedas válidas\n",
        "moedas_validas = [\"USD\", \"BRL\", \"EUR\", \"JPY\", \"GBP\"]\n",
        "\n",
        "# Entrada de dados\n",
        "valor = float(input(\"Digite o valor a ser convertido: \"))\n",
        "moeda_origem = input(\"Digite a moeda de origem: \")\n",
        "moeda_destino = input(\"Digite a moeda de destino: \")\n",
        "\n",
        "# Validação de dados\n",
        "if moeda_origem not in moedas_validas or moeda_destino not in moedas_validas:\n",
        "    print(\"Moeda inválida. As moedas válidas são: \", moedas_validas)\n",
        "else:\n",
        "    # Conversão de moedas\n",
        "    url = f\"https://api.exchangerate-api.com/v4/latest/{moeda_origem}\"\n",
        "    resposta = requests.get(url)\n",
        "    data = resposta.json()\n",
        "    taxa_cambio = data[\"rates\"][moeda_destino]\n",
        "    valor_convertido = valor * taxa_cambio\n",
        "\n",
        "    # Exibição dos resultados[^2^][2]\n",
        "    print(f\"O valor convertido é: {valor_convertido} {moeda_destino}\")\n"
      ]
    },
    {
      "cell_type": "markdown",
      "source": [
        "# Nova seção"
      ],
      "metadata": {
        "id": "X4XlYsZoTR4l"
      }
    }
  ]
}
